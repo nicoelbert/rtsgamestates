{
 "cells": [
  {
   "cell_type": "code",
   "execution_count": 2,
   "id": "92ba5516-5ddd-4fdb-bc89-9c204a2226f2",
   "metadata": {},
   "outputs": [],
   "source": [
    "import pandas as pd\n",
    "import numpy as np\n",
    "import pickle\n",
    "import matplotlib.pyplot as plt"
   ]
  },
  {
   "cell_type": "code",
   "execution_count": 3,
   "id": "4c7e2c55-b4d5-4144-9c92-091a57915d62",
   "metadata": {},
   "outputs": [
    {
     "data": {
      "text/plain": [
       "(224599, 20)"
      ]
     },
     "execution_count": 3,
     "metadata": {},
     "output_type": "execute_result"
    }
   ],
   "source": [
    "with open('data/scraped_matches/parsed_matches/final_matches.pkl', 'rb') as f:\n",
    "    matches = pickle.load(f)\n",
    "\n"
   ]
  },
  {
   "cell_type": "code",
   "execution_count": 5,
   "id": "f298ba95-f9b1-4073-b172-d374aea4b452",
   "metadata": {},
   "outputs": [
    {
     "data": {
      "text/plain": [
       "138902"
      ]
     },
     "execution_count": 5,
     "metadata": {},
     "output_type": "execute_result"
    }
   ],
   "source": [
    "arabia_matches = {}\n",
    "\n",
    "for match_id in matches:\n",
    "    if matches[match_id]['map'] == 'Arabia':\n",
    "        arabia_matches[match_id] = matches[match_id]\n",
    "        \n",
    "len(arabia_matches)"
   ]
  },
  {
   "cell_type": "code",
   "execution_count": null,
   "id": "5fb3c131-4f33-4487-a3c5-5de813b5d677",
   "metadata": {},
   "outputs": [],
   "source": [
    "arabia_matches.head()"
   ]
  },
  {
   "cell_type": "code",
   "execution_count": 6,
   "id": "3742ebe0-f4fe-4354-ad15-d1f218aeacae",
   "metadata": {},
   "outputs": [],
   "source": [
    "#final persitate matches\n",
    "file_name = 'data/scraped_matches/parsed_matches/arabia_matches.pkl'\n",
    "output = open(file_name, 'wb')\n",
    "pickle.dump(arabia_matches, output)\n",
    "output.close()\n"
   ]
  },
  {
   "cell_type": "code",
   "execution_count": null,
   "id": "dafb44cc-2165-4794-ab8c-82072bb6ae25",
   "metadata": {},
   "outputs": [],
   "source": []
  }
 ],
 "metadata": {
  "kernelspec": {
   "display_name": "aoeanalytics2",
   "language": "python",
   "name": "aoeanalytics2"
  },
  "language_info": {
   "codemirror_mode": {
    "name": "ipython",
    "version": 3
   },
   "file_extension": ".py",
   "mimetype": "text/x-python",
   "name": "python",
   "nbconvert_exporter": "python",
   "pygments_lexer": "ipython3",
   "version": "3.8.12"
  }
 },
 "nbformat": 4,
 "nbformat_minor": 5
}
