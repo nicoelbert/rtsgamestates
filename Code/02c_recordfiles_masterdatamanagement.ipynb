{
 "cells": [
  {
   "cell_type": "code",
   "execution_count": 1,
   "id": "34ccee0c-e3bd-464f-ad79-6d2f5a6a7c4b",
   "metadata": {},
   "outputs": [],
   "source": [
    "import numpy as np\n",
    "import pandas as pd\n",
    "import json\n",
    "import os\n",
    "import pickle\n",
    "import csv\n",
    "\n",
    "#persistate master data\n",
    "masterdata_path = 'masterdata/'"
   ]
  },
  {
   "cell_type": "code",
   "execution_count": 2,
   "id": "8fb295b1-1b76-40d8-98ec-4ecf223e8f52",
   "metadata": {},
   "outputs": [],
   "source": [
    "elo_frames = {}\n",
    "elo_frames['low'] = {'lb':0,'ub': 1062, 'label': 'Low Elo'}\n",
    "elo_frames['medium'] = {'lb': 1062,'ub': 1501, 'label': 'Medium Elo'}\n",
    "elo_frames['high'] = {'lb': 1501,'ub': 3000, 'label': 'High Elo'}\n",
    "\n",
    "output = open(masterdata_path + 'elo_frames.pkl' , 'wb')\n",
    "pickle.dump(elo_frames, output)\n",
    "output.close()       "
   ]
  },
  {
   "cell_type": "code",
   "execution_count": 3,
   "id": "b74ada7d-6f20-4689-a268-f0168db97235",
   "metadata": {},
   "outputs": [],
   "source": [
    "#load masterdata\n",
    "with open('masterdata/masterdata_dict.pkl', 'rb') as f:\n",
    "        masterdata_dict = pickle.load(f)"
   ]
  },
  {
   "cell_type": "code",
   "execution_count": 4,
   "id": "5c0cfb5b-ea94-46fb-9e13-511f1b79fbc7",
   "metadata": {},
   "outputs": [],
   "source": [
    "\n",
    "#UniteMasterdataÄ\n",
    "#read table\n",
    "df = pd.read_csv('masterdata/unit_masterdata.csv',delimiter = ';')\n",
    "\n",
    "\n",
    "temp_md_dict = df.to_dict('index')\n",
    "unit_masterdata_dict = {}\n",
    "\n",
    "#correct and rearange entries\n",
    "for entry in temp_md_dict:\n",
    "    for val in temp_md_dict[entry]:\n",
    "        if isinstance( temp_md_dict[entry][val], str):\n",
    "            temp_md_dict[entry][val] = temp_md_dict[entry][val].strip('\\xa0').strip()\n",
    "        \n",
    "for entry in temp_md_dict:\n",
    "    unit_masterdata_dict[temp_md_dict[entry]['Unit']]= temp_md_dict[entry]\n",
    "\n",
    "#sort unit by types\n",
    "    \n",
    "unit_type_dict = {}\n",
    "types = []\n",
    "\n",
    "for entry in unit_masterdata_dict:\n",
    "    if unit_masterdata_dict[entry]['Type'] not in types:\n",
    "        types.append(unit_masterdata_dict[entry]['Type'])\n",
    "\n",
    "#init lists\n",
    "for type in types:\n",
    "    unit_type_dict[type]=[]\n",
    "        \n",
    "for entry in unit_masterdata_dict:\n",
    "    unit_type_dict[unit_masterdata_dict[entry]['Type']].append(entry)\n"
   ]
  },
  {
   "cell_type": "code",
   "execution_count": 5,
   "id": "7af0b427-a252-4974-8c4f-1a0ece91b18d",
   "metadata": {},
   "outputs": [
    {
     "name": "stdout",
     "output_type": "stream",
     "text": [
      "None\n"
     ]
    }
   ],
   "source": [
    "#check for leftover values\n",
    "for unit in masterdata_dict['Queue']:\n",
    "    if unit not in unit_masterdata_dict:\n",
    "        print(unit)"
   ]
  },
  {
   "cell_type": "code",
   "execution_count": 6,
   "id": "aefece2d-4509-452d-b314-3233ac53985b",
   "metadata": {},
   "outputs": [],
   "source": [
    "output = open('masterdata/unit_type_dict.pkl' , 'wb')\n",
    "pickle.dump(unit_type_dict, output)\n",
    "output.close()\n",
    "\n",
    "\n",
    "output = open('masterdata/unit_masterdata_dict.pkl' , 'wb')\n",
    "pickle.dump(unit_masterdata_dict, output)\n",
    "output.close()\n"
   ]
  },
  {
   "cell_type": "code",
   "execution_count": 7,
   "id": "9a31472e-970a-4943-85c8-22ca53893794",
   "metadata": {},
   "outputs": [],
   "source": [
    "#Building Masterdata\n",
    "#read table\n",
    "df = pd.read_csv('masterdata/building_masterdata.csv',delimiter = ';')\n",
    "\n",
    "\n",
    "temp_md_dict = df.to_dict('index')\n",
    "building_masterdata_dict = {}\n",
    "\n",
    "#correct and rearange entries\n",
    "for entry in temp_md_dict:\n",
    "    for val in temp_md_dict[entry]:\n",
    "        if isinstance( temp_md_dict[entry][val], str):\n",
    "            temp_md_dict[entry][val] = temp_md_dict[entry][val].strip('\\xa0').strip()\n",
    "        \n",
    "for entry in temp_md_dict:\n",
    "    building_masterdata_dict[temp_md_dict[entry]['Building']]= temp_md_dict[entry]\n",
    "\n",
    "#sort unit by types\n",
    "    \n",
    "building_type_dict = {}\n",
    "types = []\n",
    "\n",
    "for entry in building_masterdata_dict:\n",
    "    if building_masterdata_dict[entry]['Type'] not in types:\n",
    "        types.append(building_masterdata_dict[entry]['Type'])\n",
    "\n",
    "#init lists\n",
    "for type in types:\n",
    "    building_type_dict[type]=[]\n",
    "        \n",
    "for entry in building_masterdata_dict:\n",
    "    building_type_dict[building_masterdata_dict[entry]['Type']].append(entry)\n",
    "    \n",
    "#check for leftover values\n",
    "for building in masterdata_dict['Build']:\n",
    "    if building not in building_masterdata_dict:\n",
    "        print(building)"
   ]
  },
  {
   "cell_type": "code",
   "execution_count": 8,
   "id": "22c7f203-eba6-491e-aeca-f431a80e23d4",
   "metadata": {},
   "outputs": [],
   "source": [
    "output = open('masterdata/building_type_dict.pkl' , 'wb')\n",
    "pickle.dump(building_type_dict, output)\n",
    "output.close()\n",
    "\n",
    "\n",
    "output = open('masterdata/building_masterdata_dict.pkl' , 'wb')\n",
    "pickle.dump(building_masterdata_dict, output)\n",
    "output.close()\n"
   ]
  },
  {
   "cell_type": "code",
   "execution_count": 14,
   "id": "ef189f6b-01f4-456b-863c-3c97eca21298",
   "metadata": {},
   "outputs": [
    {
     "name": "stdout",
     "output_type": "stream",
     "text": [
      "\n"
     ]
    }
   ],
   "source": [
    "#Building Masterdata\n",
    "#read table\n",
    "df = pd.read_csv('masterdata/research_masterdata.csv',delimiter = ';')\n",
    "\n",
    "\n",
    "temp_md_dict = df.to_dict('index')\n",
    "research_masterdata_dict = {}\n",
    "\n",
    "#correct and rearange entries\n",
    "for entry in temp_md_dict:\n",
    "    for val in temp_md_dict[entry]:\n",
    "        if isinstance( temp_md_dict[entry][val], str):\n",
    "            temp_md_dict[entry][val] = temp_md_dict[entry][val].strip('\\xa0').strip()\n",
    "        \n",
    "for entry in temp_md_dict:\n",
    "    research_masterdata_dict[temp_md_dict[entry]['Technology']]= temp_md_dict[entry]\n",
    "\n",
    "#sort unit by types\n",
    "    \n",
    "research_type_dict = {}\n",
    "types = []\n",
    "\n",
    "for entry in research_masterdata_dict:\n",
    "    if research_masterdata_dict[entry]['Type'] not in types:\n",
    "        types.append(research_masterdata_dict[entry]['Type'])\n",
    "\n",
    "#init lists\n",
    "for type in types:\n",
    "    research_type_dict[type]=[]\n",
    "        \n",
    "for entry in research_masterdata_dict:\n",
    "    research_type_dict[research_masterdata_dict[entry]['Type']].append(entry)\n",
    "    \n",
    "#check for leftover values\n",
    "for technology in masterdata_dict['Research']:\n",
    "    if technology not in research_masterdata_dict:\n",
    "        print(technology)"
   ]
  },
  {
   "cell_type": "code",
   "execution_count": 17,
   "id": "22734a08-ae95-40b4-83c6-44e9d8205f1d",
   "metadata": {},
   "outputs": [],
   "source": [
    "output = open('masterdata/research_type_dict.pkl' , 'wb')\n",
    "pickle.dump(research_type_dict, output)\n",
    "output.close()\n",
    "\n",
    "\n",
    "output = open('masterdata/research_masterdata_dict.pkl' , 'wb')\n",
    "pickle.dump(research_masterdata_dict, output)\n",
    "output.close()"
   ]
  },
  {
   "cell_type": "code",
   "execution_count": 27,
   "id": "7c79fc61-75bf-4635-9037-c207a93b89f2",
   "metadata": {},
   "outputs": [],
   "source": [
    "full_type_dict = {}\n",
    "\n",
    "for u in unit_type_dict:\n",
    "    full_type_dict[f'Unit {u}'] = unit_type_dict[u]\n",
    "    \n",
    "for b in building_type_dict:\n",
    "    full_type_dict[f'Building {b}'] = building_type_dict[b]\n",
    "    \n",
    "for t in research_type_dict:\n",
    "    full_type_dict[f'Technology {t}'] = research_type_dict[t]\n",
    "\n",
    "inv_full_type_dict = {}\n",
    "\n",
    "for c in full_type_dict:\n",
    "    for e in full_type_dict[c]:\n",
    "        inv_full_type_dict[e] = c"
   ]
  },
  {
   "cell_type": "code",
   "execution_count": 29,
   "id": "6b3bb7b3-376f-4cc8-b621-154f19082d6a",
   "metadata": {},
   "outputs": [],
   "source": [
    "output = open('masterdata/full_type_dict.pkl' , 'wb')\n",
    "pickle.dump(full_type_dict, output)\n",
    "output.close()\n",
    "\n",
    "\n",
    "output = open('masterdata/inv_full_type_dict.pkl' , 'wb')\n",
    "pickle.dump(inv_full_type_dict, output)\n",
    "output.close()"
   ]
  },
  {
   "cell_type": "code",
   "execution_count": null,
   "id": "03a94fdc-18a3-459d-941f-b0372ca5eb17",
   "metadata": {},
   "outputs": [],
   "source": [
    "##### gaia masterdata\n",
    "\"\"\"\n",
    "redundant_gaia_objects = gaia_objects\n",
    "relevant_gaia_objects = {}  \n",
    "relevant_gaia_objects['tree'] = []\n",
    "\n",
    "for item in gaia_objects:\n",
    "    if \"Tree\" in item:\n",
    "        relevant_gaia_objects['tree'].append(item)     \n",
    "        \n",
    "relevant_gaia_objects['animal_gatherable'] = ['Deer','Elephant','Ibex','Iron Boar','Javelina','Ostrich','Rhinoceros','Wild Boar','Zebra']\n",
    "relevant_gaia_objects['animal_hostile'] = ['Bear','Crocodile','Dire Wolf','Jaguar', 'Komod Dragon','Lion','Rabid Wolf','Snow Leopard','Tiger','Wolf']\n",
    "relevant_gaia_objects['animal_herdable'] = ['Cow A','Cow B','Cow C','Cow D','Goat','Goose','Llama','Pig','Sheep','Turkey','Water Buffalo']\n",
    "relevant_gaia_objects['aquatic_animal'] = ['Shore Fish', 'Fish (Snapper)', 'Fish (Tuna)','Fish (Salmon)', 'Fish (Dorado)', 'Box Turtles']\n",
    "relevant_gaia_objects['gold_mine']  = ['Gold Mine']\n",
    "relevant_gaia_objects['stone_mine'] = ['Stone Mine']\n",
    "relevant_gaia_objects['relic'] = ['Relic']\n",
    "relevant_gaia_objects['food'] = ['Fruit Bush', 'Berry Bush', 'Forage Bush']\n",
    "relevant_gaia_objects['p1_tc'] = ['p1_tc']\n",
    "relevant_gaia_objects['p2_tc'] = ['p2_tc']\n",
    "\"\"\"\n"
   ]
  },
  {
   "cell_type": "code",
   "execution_count": null,
   "id": "704be14b-a859-4423-9e93-db955cbbdc5f",
   "metadata": {},
   "outputs": [],
   "source": [
    "import pickle\n",
    "\n",
    "with open('masterdata/gaia_masterdata.pkl', 'rb') as f:\n",
    "    gaia_md = pickle.load(f)"
   ]
  },
  {
   "cell_type": "code",
   "execution_count": null,
   "id": "199df3ca-409f-4732-8768-0a6ab2a6a04a",
   "metadata": {},
   "outputs": [],
   "source": [
    "gaia_masterdata_reversed = {}\n",
    "\n",
    "for ot in gaia_md:\n",
    "    for item in gaia_md[ot]:\n",
    "        gaia_masterdata_reversed[item] = ot \n",
    "\n",
    "\n",
    "\n",
    "output = open(masterdata_path + 'gaia_masterdata_reversed.pkl' , 'wb')\n",
    "pickle.dump(gaia_masterdata_reversed, output)\n",
    "output.close()       "
   ]
  },
  {
   "cell_type": "code",
   "execution_count": 30,
   "id": "9bafc197-80b3-4ff8-a51b-a58c160dd073",
   "metadata": {},
   "outputs": [],
   "source": [
    "### merge masterdata\n",
    "\n",
    "with open(f'masterdata/unit_masterdata_dict.pkl', 'rb') as f:\n",
    "        unit_masterdata_dict = pickle.load(f)\n",
    "        \n",
    "with open(f'masterdata/building_masterdata_dict.pkl', 'rb') as f:\n",
    "        building_masterdata_dict = pickle.load(f)\n",
    "        \n",
    "with open(f'masterdata/research_masterdata_dict.pkl', 'rb') as f:\n",
    "        research_masterdata_dict = pickle.load(f)\n",
    "\n",
    "\n"
   ]
  },
  {
   "cell_type": "code",
   "execution_count": 33,
   "id": "1e133f1a-ce8a-4859-82c1-f0d695c5fb98",
   "metadata": {},
   "outputs": [],
   "source": [
    "full_masterdata_dict = {}\n",
    "\n",
    "input_md_type_dict = {'research': research_masterdata_dict,\n",
    "                      'queue': unit_masterdata_dict,\n",
    "                      'build': building_masterdata_dict}\n",
    "\n",
    "resources = ['Food','Wood','Gold','Stone']\n",
    "\n",
    "for input_type in input_md_type_dict:\n",
    "    \n",
    "    for key in input_md_type_dict[input_type]:\n",
    "        full_masterdata_dict[key] = input_md_type_dict[input_type][key]\n",
    "        full_masterdata_dict[key]['input_type'] = input_type\n",
    "        \n",
    "        #calc total resources\n",
    "        total_resources = 0\n",
    "        for subkey in full_masterdata_dict[key]:\n",
    "            if subkey in resources:\n",
    "                total_resources += full_masterdata_dict[key][subkey]\n",
    "        \n",
    "        full_masterdata_dict[key]['total_resources'] = total_resources"
   ]
  },
  {
   "cell_type": "code",
   "execution_count": 37,
   "id": "7ff9a34d-8a14-4c99-a6f0-10730d3aabe4",
   "metadata": {},
   "outputs": [],
   "source": [
    "output = open('masterdata/full_resource_masterdata_dict.pkl' , 'wb')\n",
    "pickle.dump(full_masterdata_dict, output)\n",
    "output.close()"
   ]
  },
  {
   "cell_type": "code",
   "execution_count": null,
   "id": "d0d3d4d1-4838-4595-9389-05c9993a29a0",
   "metadata": {},
   "outputs": [],
   "source": []
  }
 ],
 "metadata": {
  "kernelspec": {
   "display_name": "aoeanalytics2",
   "language": "python",
   "name": "aoeanalytics2"
  },
  "language_info": {
   "codemirror_mode": {
    "name": "ipython",
    "version": 3
   },
   "file_extension": ".py",
   "mimetype": "text/x-python",
   "name": "python",
   "nbconvert_exporter": "python",
   "pygments_lexer": "ipython3",
   "version": "3.8.12"
  }
 },
 "nbformat": 4,
 "nbformat_minor": 5
}
