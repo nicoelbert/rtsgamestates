{
 "cells": [
  {
   "cell_type": "code",
   "execution_count": 1,
   "id": "2196d0d7-9249-42fe-9e0e-e8e22ba88277",
   "metadata": {},
   "outputs": [
    {
     "name": "stdout",
     "output_type": "stream",
     "text": [
      "check\n"
     ]
    }
   ],
   "source": [
    "import sys\n",
    "import pickle\n",
    "import random\n",
    "print(\"check\")\n",
    "#!{sys.executable} -m pip install opencv\n",
    "!{sys.executable} -m pip install torch==1.10.2+cu113 torchvision==0.11.3+cu113 torchaudio==0.10.2+cu113 -f https://download.pytorch.org/whl/cu113/torch_stable.html -q\n",
    "!{sys.executable} -m pip install torch -q\n",
    "!{sys.executable} -m pip install torchvision -q\n",
    "!{sys.executable} -m pip install pytorch_lightning -q\n",
    "!{sys.executable} -m pip install pytorch-lightning -q"
   ]
  },
  {
   "cell_type": "code",
   "execution_count": 2,
   "id": "7058e65a-b0f0-4710-aed0-fe5e9e1bfc0a",
   "metadata": {},
   "outputs": [
    {
     "data": {
      "text/plain": [
       "'1.10.2+cu113'"
      ]
     },
     "execution_count": 2,
     "metadata": {},
     "output_type": "execute_result"
    }
   ],
   "source": [
    "import torch\n",
    "torch.__version__"
   ]
  },
  {
   "cell_type": "code",
   "execution_count": null,
   "id": "6a0d66c1-7c10-4066-ba4b-ad615139cc66",
   "metadata": {},
   "outputs": [],
   "source": []
  },
  {
   "cell_type": "code",
   "execution_count": 3,
   "id": "8dc0b361-4b24-4a85-9db4-5c84bab4b280",
   "metadata": {},
   "outputs": [],
   "source": [
    "#!{sys.executable} -m  pip install torch==1.11.0+cu113 torchvision==0.12.0+cu113 -f https://download.pytorch.org/whl/torch_stable.html\n",
    "#!{sys.executable} -m pip install torch torchvision torchaudio --extra-index-url https://download.pytorch.org/whl/cu114\n",
    "\n",
    "\n",
    "import os\n",
    "import numpy as np\n",
    "import torch\n",
    "import pandas as pd\n",
    "\n",
    "# import the necessary packages\n",
    "from torch.nn import Module\n",
    "from torch.nn import Conv2d\n",
    "from torch.nn import Linear\n",
    "from torch.nn import MaxPool2d\n",
    "from torch.nn import ReLU\n",
    "from torch.nn import LogSoftmax\n",
    "from torch import flatten\n",
    "\n",
    "# set the matplotlib backend so figures can be saved in the background\n",
    "import matplotlib\n",
    "matplotlib.use(\"Agg\")\n",
    "# import the necessary packages\n",
    "#from pyimagesearch.lenet import LeNet\n",
    "from sklearn.metrics import classification_report\n",
    "from torch.utils.data import random_split\n",
    "from torch.utils.data import DataLoader\n",
    "from torch.optim import Adam\n",
    "from torch import nn\n",
    "import matplotlib.pyplot as plt\n",
    "import numpy as np\n",
    "import argparse\n",
    "import torch\n",
    "import time\n"
   ]
  },
  {
   "cell_type": "code",
   "execution_count": 4,
   "id": "0d14b0dd-2c91-48a9-b835-4b5beff4b14d",
   "metadata": {},
   "outputs": [],
   "source": [
    "class LeNet(Module):\n",
    "    def __init__(self, numChannels, classes):\n",
    "        # call the parent constructor\n",
    "        super(LeNet, self).__init__()\n",
    "        # initialize first set of CONV => RELU => POOL layers\n",
    "        self.conv1 = Conv2d(in_channels=numChannels, out_channels=512,\n",
    "            kernel_size=(5, 5))\n",
    "        self.relu1 = ReLU()\n",
    "        self.maxpool1 = MaxPool2d(kernel_size=(2, 2), stride=(2, 2))\n",
    "        # initialize second set of CONV => RELU => POOL layers\n",
    "        self.conv2 = Conv2d(in_channels=512, out_channels=50,\n",
    "            kernel_size=(5, 5))\n",
    "        self.relu2 = ReLU()\n",
    "        self.maxpool2 = MaxPool2d(kernel_size=(2, 2), stride=(2, 2))\n",
    "        # initialize first (and only) set of FC => RELU layers\n",
    "        self.fc1 = Linear(in_features=36450, out_features=500)\n",
    "        self.relu3 = ReLU()\n",
    "        # initialize our softmax classifier\n",
    "        self.fc2 = Linear(in_features=500, out_features=classes)\n",
    "        self.logSoftmax = LogSoftmax(dim=1)\n",
    "        \n",
    "        \n",
    "    def forward(self, x):\n",
    "        # pass the input through our first set of CONV => RELU =>\n",
    "        # POOL layers\n",
    "        #print(\"0:\",x.shape)\n",
    "        x = self.conv1(x)\n",
    "        #print(\"1:\",x.shape)\n",
    "        x = self.relu1(x)\n",
    "        x = self.maxpool1(x)\n",
    "        # pass the output from the previous layer through the second\n",
    "        # set of CONV => RELU => POOL layers\n",
    "        #print(\"2:\",x.shape)\n",
    "        x = self.conv2(x)\n",
    "        x = self.relu2(x)\n",
    "        x = self.maxpool2(x)\n",
    "        #print(\"3:\",x.shape)\n",
    "        # flatten the output from the previous layer and pass it\n",
    "        # through our only set of FC => RELU layers\n",
    "        x = flatten(x, 1)\n",
    "        #print(\"4:\",x.shape)\n",
    "        x = self.fc1(x)\n",
    "        x = self.relu3(x)\n",
    "        #print(\"5:\",x.shape)\n",
    "        # pass the output to our softmax classifier to get our output\n",
    "        # predictions\n",
    "        x = self.fc2(x)\n",
    "        output = self.logSoftmax(x)\n",
    "        # return the output predictions\n",
    "        return output"
   ]
  },
  {
   "cell_type": "code",
   "execution_count": 5,
   "id": "9639a84c-3fa3-40cf-b29b-28109763b5dc",
   "metadata": {},
   "outputs": [
    {
     "data": {
      "text/plain": [
       "device(type='cuda')"
      ]
     },
     "execution_count": 5,
     "metadata": {},
     "output_type": "execute_result"
    }
   ],
   "source": [
    "# define model param\n",
    "numChannels = 3\n",
    "numClasses = 2\n",
    "# define training hyperparameters\n",
    "INIT_LR = 1e-2\n",
    "BATCH_SIZE = 64\n",
    "EPOCHS = 10\n",
    "# define the train and val splits\n",
    "TEST_SPLIT = 0.1\n",
    "TRAIN_SPLIT = 0.75\n",
    "VAL_SPLIT = 1 - TRAIN_SPLIT\n",
    "# set the device we will be using to train the model\n",
    "device = torch.device(\"cuda\" if torch.cuda.is_available() else \"cpu\")\n",
    "device"
   ]
  },
  {
   "cell_type": "code",
   "execution_count": 6,
   "id": "a7fb1650-8760-4966-a7c2-ed401e04473a",
   "metadata": {},
   "outputs": [],
   "source": [
    "id_path = 'data/feature_maps/input_matchids.pkl'\n",
    "label_path = 'data/feature_maps/input_labels.pkl'"
   ]
  },
  {
   "cell_type": "code",
   "execution_count": 7,
   "id": "fdf8a07f-3384-482f-bf33-b01bb2eddaa0",
   "metadata": {},
   "outputs": [
    {
     "name": "stdout",
     "output_type": "stream",
     "text": [
      "277804 0\n"
     ]
    }
   ],
   "source": [
    "with open(id_path, 'rb') as f:\n",
    "    match_ids = pickle.load(f)\n",
    "\n",
    "#train val test split with seed 42\n",
    "random.Random(42).shuffle(match_ids)\n",
    "\n",
    "test_idx = int(TEST_SPLIT * len(match_ids))-1\n",
    "train_idx = int(TRAIN_SPLIT * len(match_ids))-1 + test_idx\n",
    "\n",
    "test_ids = match_ids[:test_idx]\n",
    "train_ids = match_ids[test_idx:train_idx]\n",
    "val_ids = match_ids[train_idx:]\n",
    "match_ids\n",
    "\n",
    "print(len(match_ids),len(test_ids) + len(train_ids) + len(val_ids)- len(match_ids))"
   ]
  },
  {
   "cell_type": "code",
   "execution_count": 8,
   "id": "5e801b25-bcd3-42e3-b848-2f697da97aca",
   "metadata": {},
   "outputs": [],
   "source": [
    "from torch.utils.data import Dataset\n",
    "\n",
    "class MapDataset(Dataset):\n",
    "    def __init__(self, ids):\n",
    "         \n",
    "        with open(label_path, 'rb') as f:\n",
    "            map_labels = pickle.load(f)\n",
    "        \n",
    "        self.labels = map_labels\n",
    "        self.samples = ids\n",
    "        \n",
    "    def __len__(self):\n",
    "        return len(self.samples)\n",
    "\n",
    "    def __getitem__(self, idx):\n",
    "        with open(f'data/feature_maps/inputs/{self.samples[idx]}.pkl', 'rb') as f:\n",
    "            tensor = pickle.load(f)\n",
    "        \n",
    "        return tensor, self.labels[self.samples[idx]]\n",
    "\n",
    "\n",
    "\n"
   ]
  },
  {
   "cell_type": "code",
   "execution_count": 9,
   "id": "1d033d4c-15f9-428d-86f0-4a61a825927c",
   "metadata": {},
   "outputs": [],
   "source": [
    "with open(id_path, 'rb') as f:\n",
    "    match_ids = pickle.load(f)\n",
    "    \n",
    "    \n",
    "trainData = MapDataset(train_ids)\n",
    "valData = MapDataset(val_ids)\n",
    "testData = MapDataset(test_ids)\n"
   ]
  },
  {
   "cell_type": "code",
   "execution_count": 10,
   "id": "fb45c23a-b88f-466e-8204-251c858615d8",
   "metadata": {},
   "outputs": [],
   "source": [
    "# initialize the train, validation, and test data loaders\n",
    "trainDataLoader = DataLoader(trainData, shuffle=True,\n",
    "\tbatch_size=BATCH_SIZE)\n",
    "valDataLoader = DataLoader(valData, batch_size=BATCH_SIZE)\n",
    "testDataLoader = DataLoader(testData, batch_size=BATCH_SIZE)\n",
    "# calculate steps per epoch for training and validation set\n",
    "trainSteps = len(trainDataLoader.dataset) // BATCH_SIZE\n",
    "valSteps = len(valDataLoader.dataset) // BATCH_SIZE"
   ]
  },
  {
   "cell_type": "code",
   "execution_count": 11,
   "id": "bc23bf5b-9458-42b8-b2f3-71b7a4db901a",
   "metadata": {},
   "outputs": [
    {
     "name": "stdout",
     "output_type": "stream",
     "text": [
      "torch.Size([64, 3, 120, 120])\n"
     ]
    },
    {
     "data": {
      "text/plain": [
       "0"
      ]
     },
     "execution_count": 11,
     "metadata": {},
     "output_type": "execute_result"
    }
   ],
   "source": [
    "i = 0\n",
    "for (x,y) in trainDataLoader:\n",
    "    print(x.shape)\n",
    "    #print(\"____\")\n",
    "    #print(y)\n",
    "    break\n",
    "i"
   ]
  },
  {
   "cell_type": "code",
   "execution_count": 12,
   "id": "03b13183-1893-435d-92aa-41046401cb34",
   "metadata": {},
   "outputs": [
    {
     "name": "stdout",
     "output_type": "stream",
     "text": [
      "[INFO] initializing the LeNet model...\n",
      "[INFO] training the network...\n",
      "[INFO] EPOCH: 1/10\n",
      "Train loss: 1.199283, Train accuracy: 0.5000\n",
      "Val loss: 0.694224, Val accuracy: 0.5036\n",
      "\n",
      "[INFO] EPOCH: 2/10\n",
      "Train loss: 0.693743, Train accuracy: 0.4995\n",
      "Val loss: 0.694251, Val accuracy: 0.5036\n",
      "\n",
      "[INFO] EPOCH: 3/10\n",
      "Train loss: 0.693608, Train accuracy: 0.5009\n",
      "Val loss: 0.694221, Val accuracy: 0.5036\n",
      "\n",
      "[INFO] EPOCH: 4/10\n",
      "Train loss: 0.693599, Train accuracy: 0.5019\n",
      "Val loss: 0.694284, Val accuracy: 0.4964\n",
      "\n",
      "[INFO] EPOCH: 5/10\n",
      "Train loss: 0.693633, Train accuracy: 0.5009\n",
      "Val loss: 0.694192, Val accuracy: 0.5036\n",
      "\n",
      "[INFO] EPOCH: 6/10\n",
      "Train loss: 0.693621, Train accuracy: 0.5021\n",
      "Val loss: 0.694496, Val accuracy: 0.5036\n",
      "\n",
      "[INFO] EPOCH: 7/10\n",
      "Train loss: 0.693653, Train accuracy: 0.5002\n",
      "Val loss: 0.694199, Val accuracy: 0.5036\n",
      "\n",
      "[INFO] EPOCH: 8/10\n",
      "Train loss: 0.693655, Train accuracy: 0.5004\n",
      "Val loss: 0.694391, Val accuracy: 0.4964\n",
      "\n",
      "[INFO] EPOCH: 9/10\n",
      "Train loss: 0.693720, Train accuracy: 0.4990\n",
      "Val loss: 0.694767, Val accuracy: 0.4964\n",
      "\n",
      "[INFO] EPOCH: 10/10\n",
      "Train loss: 0.693619, Train accuracy: 0.5002\n",
      "Val loss: 0.694553, Val accuracy: 0.5036\n",
      "\n",
      "[INFO] total time taken to train the model: 3657.92s\n",
      "[INFO] evaluating network...\n"
     ]
    },
    {
     "ename": "AttributeError",
     "evalue": "",
     "output_type": "error",
     "traceback": [
      "\u001b[0;31m---------------------------------------------------------------------------\u001b[0m",
      "\u001b[0;31mAttributeError\u001b[0m                            Traceback (most recent call last)",
      "Input \u001b[0;32mIn [12]\u001b[0m, in \u001b[0;36m<cell line: 105>\u001b[0;34m()\u001b[0m\n\u001b[1;32m    103\u001b[0m         preds\u001b[38;5;241m.\u001b[39mextend(pred\u001b[38;5;241m.\u001b[39margmax(axis\u001b[38;5;241m=\u001b[39m\u001b[38;5;241m1\u001b[39m)\u001b[38;5;241m.\u001b[39mcpu()\u001b[38;5;241m.\u001b[39mnumpy())\n\u001b[1;32m    104\u001b[0m \u001b[38;5;66;03m# generate a classification report\u001b[39;00m\n\u001b[0;32m--> 105\u001b[0m \u001b[38;5;28mprint\u001b[39m(classification_report(\u001b[43mtestData\u001b[49m\u001b[38;5;241;43m.\u001b[39;49m\u001b[43mtargets\u001b[49m\u001b[38;5;241m.\u001b[39mcpu()\u001b[38;5;241m.\u001b[39mnumpy(),\n\u001b[1;32m    106\u001b[0m \tnp\u001b[38;5;241m.\u001b[39marray(preds), target_names\u001b[38;5;241m=\u001b[39mtestData\u001b[38;5;241m.\u001b[39mclasses))\n",
      "File \u001b[0;32m~/.conda/envs/aoeanalytics2/lib/python3.8/site-packages/torch/utils/data/dataset.py:83\u001b[0m, in \u001b[0;36mDataset.__getattr__\u001b[0;34m(self, attribute_name)\u001b[0m\n\u001b[1;32m     81\u001b[0m     \u001b[38;5;28;01mreturn\u001b[39;00m function\n\u001b[1;32m     82\u001b[0m \u001b[38;5;28;01melse\u001b[39;00m:\n\u001b[0;32m---> 83\u001b[0m     \u001b[38;5;28;01mraise\u001b[39;00m \u001b[38;5;167;01mAttributeError\u001b[39;00m\n",
      "\u001b[0;31mAttributeError\u001b[0m: "
     ]
    }
   ],
   "source": [
    "# initialize the LeNet model\n",
    "print(\"[INFO] initializing the LeNet model...\")\n",
    "model = LeNet(\n",
    "\tnumChannels=numChannels,\n",
    "\tclasses=numClasses).to(device)\n",
    "# initialize our optimizer and loss function\n",
    "opt = Adam(model.parameters(), lr=INIT_LR)\n",
    "lossFn = nn.NLLLoss()\n",
    "# initialize a dictionary to store training history\n",
    "H = {\n",
    "\t\"train_loss\": [],\n",
    "\t\"train_acc\": [],\n",
    "\t\"val_loss\": [],\n",
    "\t\"val_acc\": []\n",
    "}\n",
    "# measure how long training is going to take\n",
    "print(\"[INFO] training the network...\")\n",
    "startTime = time.time()\n",
    "#print(startTime)\n",
    "\n",
    "# loop over our epochs\n",
    "for e in range(0, EPOCHS):\n",
    "    # set the model in training mode\n",
    "    model.train()\n",
    "    # initialize the total training and validation loss\n",
    "    totalTrainLoss = 0\n",
    "    totalValLoss = 0\n",
    "    # initialize the number of correct predictions in the training\n",
    "    # and validation step\n",
    "    trainCorrect = 0\n",
    "    valCorrect = 0\n",
    "    # loop over the training set\n",
    "    for (x, y) in trainDataLoader:\n",
    "        #print(x)\n",
    "        # send the input to the device\n",
    "        (x, y) = (x.to(device, dtype=torch.float), y.to(device))\n",
    "        # perform a forward pass and calculate the training loss\n",
    "        pred = model(x)\n",
    "        loss = lossFn(pred, y)\n",
    "        # zero out the gradients, perform the backpropagation step,\n",
    "        # and update the weights\n",
    "        opt.zero_grad()\n",
    "        loss.backward()\n",
    "        opt.step()\n",
    "        # add the loss to the total training loss so far and\n",
    "        # calculate the number of correct predictions\n",
    "        totalTrainLoss += loss\n",
    "        trainCorrect += (pred.argmax(1) == y).type(\n",
    "            torch.float).sum().item()\n",
    "        \n",
    "        # switch off autograd for evaluation\n",
    "    with torch.no_grad():\n",
    "        # set the model in evaluation mode\n",
    "        model.eval()\n",
    "        # loop over the validation set\n",
    "        for (x, y) in valDataLoader:\n",
    "            # send the input to the device\n",
    "            (x, y) = (x.to(device, dtype=torch.float), y.to(device))\n",
    "            # make the predictions and calculate the validation loss\n",
    "            pred = model(x)\n",
    "            totalValLoss += lossFn(pred, y)\n",
    "            # calculate the number of correct predictions\n",
    "            valCorrect += (pred.argmax(1) == y).type(\n",
    "                torch.float).sum().item()\n",
    "            \n",
    "    # calculate the average training and validation loss\n",
    "    avgTrainLoss = totalTrainLoss / trainSteps\n",
    "    avgValLoss = totalValLoss / valSteps\n",
    "    # calculate the training and validation accuracy\n",
    "    trainCorrect = trainCorrect / len(trainDataLoader.dataset)\n",
    "    valCorrect = valCorrect / len(valDataLoader.dataset)\n",
    "    # update our training history\n",
    "    H[\"train_loss\"].append(avgTrainLoss.cpu().detach().numpy())\n",
    "    H[\"train_acc\"].append(trainCorrect)\n",
    "    H[\"val_loss\"].append(avgValLoss.cpu().detach().numpy())\n",
    "    H[\"val_acc\"].append(valCorrect)\n",
    "    # print the model training and validation information\n",
    "    print(\"[INFO] EPOCH: {}/{}\".format(e + 1, EPOCHS))\n",
    "    print(\"Train loss: {:.6f}, Train accuracy: {:.4f}\".format(\n",
    "        avgTrainLoss, trainCorrect))\n",
    "    print(\"Val loss: {:.6f}, Val accuracy: {:.4f}\\n\".format(\n",
    "        avgValLoss, valCorrect))\n",
    "    \n",
    "    # finish measuring how long training took\n",
    "endTime = time.time()\n",
    "print(\"[INFO] total time taken to train the model: {:.2f}s\".format(\n",
    "    endTime - startTime))\n",
    "# we can now evaluate the network on the test set\n",
    "print(\"[INFO] evaluating network...\")\n",
    "# turn off autograd for testing evaluation\n",
    "with torch.no_grad():\n",
    "    # set the model in evaluation mode\n",
    "    model.eval()\n",
    "\n",
    "    # initialize a list to store our predictions\n",
    "    preds = []\n",
    "    # loop over the test set\n",
    "    for (x, y) in testDataLoader:\n",
    "        # send the input to the device\n",
    "        x = x.to(device, dtype=torch.float)\n",
    "        # make the predictions and add them to the list\n",
    "        pred = model(x)\n",
    "        preds.extend(pred.argmax(axis=1).cpu().numpy())\n",
    "# generate a classification report\n",
    "print(classification_report(testData.targets.cpu().numpy(),\n",
    "\tnp.array(preds), target_names=testData.classes))"
   ]
  },
  {
   "cell_type": "code",
   "execution_count": null,
   "id": "a95efd9b-1e99-44e7-be9c-e642046cf6b6",
   "metadata": {},
   "outputs": [],
   "source": []
  },
  {
   "cell_type": "code",
   "execution_count": null,
   "id": "f81a0017-1694-4ff0-9c31-1a19910fe19c",
   "metadata": {},
   "outputs": [],
   "source": [
    "# plot the training loss and accuracy\n",
    "plt.style.use(\"ggplot\")\n",
    "plt.figure()\n",
    "plt.plot(H[\"train_loss\"], label=\"train_loss\")\n",
    "plt.plot(H[\"val_loss\"], label=\"val_loss\")\n",
    "plt.plot(H[\"train_acc\"], label=\"train_acc\")\n",
    "plt.plot(H[\"val_acc\"], label=\"val_acc\")\n",
    "plt.title(\"Training Loss and Accuracy on Dataset\")\n",
    "plt.xlabel(\"Epoch #\")\n",
    "plt.ylabel(\"Loss/Accuracy\")\n",
    "plt.legend(loc=\"lower left\")\n",
    "plt.savefig(args[\"plot\"])\n",
    "# serialize the model to disk\n",
    "torch.save(model, args[\"model\"])"
   ]
  },
  {
   "cell_type": "code",
   "execution_count": null,
   "id": "fba4011e-5d08-4634-9041-3b730b99ed35",
   "metadata": {},
   "outputs": [],
   "source": []
  }
 ],
 "metadata": {
  "kernelspec": {
   "display_name": "aoeanalytics2",
   "language": "python",
   "name": "aoeanalytics2"
  },
  "language_info": {
   "codemirror_mode": {
    "name": "ipython",
    "version": 3
   },
   "file_extension": ".py",
   "mimetype": "text/x-python",
   "name": "python",
   "nbconvert_exporter": "python",
   "pygments_lexer": "ipython3",
   "version": "3.8.12"
  }
 },
 "nbformat": 4,
 "nbformat_minor": 5
}
