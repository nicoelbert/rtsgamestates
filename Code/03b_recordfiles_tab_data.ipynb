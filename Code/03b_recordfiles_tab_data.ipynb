{
 "cells": [
  {
   "cell_type": "markdown",
   "id": "481d5e28-ab28-49b8-89b9-2fc7ecf8a4fd",
   "metadata": {},
   "source": [
    "# 03b - Record File Tab Data"
   ]
  },
  {
   "cell_type": "code",
   "execution_count": 23,
   "id": "bac9b7a6-8ff9-4d5d-9a04-57e9484a3b75",
   "metadata": {},
   "outputs": [],
   "source": [
    "import sys\n",
    "!{sys.executable} -m pip install --upgrade pip -q\n",
    "!{sys.executable} -m pip install pandas -q\n",
    "!{sys.executable}  -m pip install numpy -q\n",
    "!{sys.executable}  -m pip install matplotlib -q\n",
    "!{sys.executable}   -m pip install scipy -q\n",
    "#test comment"
   ]
  },
  {
   "cell_type": "code",
   "execution_count": null,
   "id": "04bff926-e14d-4759-91cc-a15e97abbfbb",
   "metadata": {},
   "outputs": [],
   "source": []
  },
  {
   "cell_type": "code",
   "execution_count": 24,
   "id": "cd1ade9b-29f8-4895-85e2-c6d21c8ef0ed",
   "metadata": {},
   "outputs": [],
   "source": [
    "import numpy as np\n",
    "import pandas as pd\n",
    "import json\n",
    "import os\n",
    "from mgz import header, body\n",
    "from mgz.model import parse_match\n",
    "import pickle\n"
   ]
  },
  {
   "cell_type": "code",
   "execution_count": 3,
   "id": "24fd4ff5-205e-4c29-8f51-4a211a2a465c",
   "metadata": {},
   "outputs": [],
   "source": [
    "def print_txt(msg: str):\n",
    "    print(msg, end = '\\r')\n",
    "    text_file = open(\"Outputs/recordfile_tabdata.txt\", \"w\")\n",
    "    text_file.write(msg)\n",
    "    text_file.close()"
   ]
  },
  {
   "cell_type": "code",
   "execution_count": 4,
   "id": "cf3033c4-8d9c-4b93-b9e1-ac436c2f7fbc",
   "metadata": {},
   "outputs": [
    {
     "data": {
      "text/plain": [
       "(138902, 20)"
      ]
     },
     "execution_count": 4,
     "metadata": {},
     "output_type": "execute_result"
    }
   ],
   "source": [
    "#load matches\n",
    "\n",
    "with open('data/scraped_matches/parsed_matches/arabia_matches.pkl', 'rb') as f:\n",
    "        matches = pickle.load(f)\n",
    "\n",
    "matches_df = pd.DataFrame.from_dict(matches, orient='index')\n",
    "\n",
    "matches_df.shape"
   ]
  },
  {
   "cell_type": "code",
   "execution_count": 5,
   "id": "1b8b9d3c-1e03-48e5-84cf-80961bd11b4c",
   "metadata": {},
   "outputs": [
    {
     "data": {
      "text/html": [
       "<div>\n",
       "<style scoped>\n",
       "    .dataframe tbody tr th:only-of-type {\n",
       "        vertical-align: middle;\n",
       "    }\n",
       "\n",
       "    .dataframe tbody tr th {\n",
       "        vertical-align: top;\n",
       "    }\n",
       "\n",
       "    .dataframe thead th {\n",
       "        text-align: right;\n",
       "    }\n",
       "</style>\n",
       "<table border=\"1\" class=\"dataframe\">\n",
       "  <thead>\n",
       "    <tr style=\"text-align: right;\">\n",
       "      <th></th>\n",
       "      <th>match_id</th>\n",
       "      <th>fn</th>\n",
       "      <th>map</th>\n",
       "      <th>map_size</th>\n",
       "      <th>duration</th>\n",
       "      <th>dataset</th>\n",
       "      <th>difficulty</th>\n",
       "      <th>input_fn</th>\n",
       "      <th>gaia_fn</th>\n",
       "      <th>p1_name</th>\n",
       "      <th>p2_name</th>\n",
       "      <th>p1_elo</th>\n",
       "      <th>p2_elo</th>\n",
       "      <th>p1_civ</th>\n",
       "      <th>p2_civ</th>\n",
       "      <th>p1_xpos</th>\n",
       "      <th>p2_xpos</th>\n",
       "      <th>p1_ypos</th>\n",
       "      <th>p2_ypos</th>\n",
       "      <th>winner</th>\n",
       "    </tr>\n",
       "  </thead>\n",
       "  <tbody>\n",
       "    <tr>\n",
       "      <th>50453403</th>\n",
       "      <td>50453403</td>\n",
       "      <td>?gameId=50453403&amp;profileId=594394</td>\n",
       "      <td>Arabia</td>\n",
       "      <td>Tiny</td>\n",
       "      <td>3445</td>\n",
       "      <td>Definitive Edition</td>\n",
       "      <td>Hardest</td>\n",
       "      <td>data/scraped_matches/inputs/50453403.pkl</td>\n",
       "      <td>data/scraped_matches/gaia_data/50453403.pkl</td>\n",
       "      <td>Zirafo</td>\n",
       "      <td>Esteban</td>\n",
       "      <td>975</td>\n",
       "      <td>1233</td>\n",
       "      <td>Vikings</td>\n",
       "      <td>Mayans</td>\n",
       "      <td>92.0</td>\n",
       "      <td>24.0</td>\n",
       "      <td>37.0</td>\n",
       "      <td>78.0</td>\n",
       "      <td>0</td>\n",
       "    </tr>\n",
       "    <tr>\n",
       "      <th>64335748</th>\n",
       "      <td>64335748</td>\n",
       "      <td>?gameId=64335748&amp;profileId=1480279</td>\n",
       "      <td>Arabia</td>\n",
       "      <td>Tiny</td>\n",
       "      <td>851</td>\n",
       "      <td>Definitive Edition</td>\n",
       "      <td>Hardest</td>\n",
       "      <td>data/scraped_matches/inputs/64335748.pkl</td>\n",
       "      <td>data/scraped_matches/gaia_data/64335748.pkl</td>\n",
       "      <td>voltapette</td>\n",
       "      <td>Flood51</td>\n",
       "      <td>1154</td>\n",
       "      <td>1006</td>\n",
       "      <td>Mayans</td>\n",
       "      <td>Magyars</td>\n",
       "      <td>25.0</td>\n",
       "      <td>98.0</td>\n",
       "      <td>80.0</td>\n",
       "      <td>68.0</td>\n",
       "      <td>1</td>\n",
       "    </tr>\n",
       "    <tr>\n",
       "      <th>116883036</th>\n",
       "      <td>116883036</td>\n",
       "      <td>?gameId=116883036&amp;profileId=3366080</td>\n",
       "      <td>Arabia</td>\n",
       "      <td>Tiny</td>\n",
       "      <td>4737</td>\n",
       "      <td>Definitive Edition</td>\n",
       "      <td>Hardest</td>\n",
       "      <td>data/scraped_matches/inputs/116883036.pkl</td>\n",
       "      <td>data/scraped_matches/gaia_data/116883036.pkl</td>\n",
       "      <td>KCube</td>\n",
       "      <td>santa777</td>\n",
       "      <td>984</td>\n",
       "      <td>1116</td>\n",
       "      <td>Berbers</td>\n",
       "      <td>Slavs</td>\n",
       "      <td>83.0</td>\n",
       "      <td>30.0</td>\n",
       "      <td>28.0</td>\n",
       "      <td>85.0</td>\n",
       "      <td>1</td>\n",
       "    </tr>\n",
       "    <tr>\n",
       "      <th>125287851</th>\n",
       "      <td>125287851</td>\n",
       "      <td>?gameId=125287851&amp;profileId=3079077</td>\n",
       "      <td>Arabia</td>\n",
       "      <td>Tiny</td>\n",
       "      <td>2899</td>\n",
       "      <td>Definitive Edition</td>\n",
       "      <td>Hardest</td>\n",
       "      <td>data/scraped_matches/inputs/125287851.pkl</td>\n",
       "      <td>data/scraped_matches/gaia_data/125287851.pkl</td>\n",
       "      <td>TiM</td>\n",
       "      <td>BarDon</td>\n",
       "      <td>1708</td>\n",
       "      <td>1637</td>\n",
       "      <td>Vikings</td>\n",
       "      <td>Mayans</td>\n",
       "      <td>101.0</td>\n",
       "      <td>16.0</td>\n",
       "      <td>58.0</td>\n",
       "      <td>56.0</td>\n",
       "      <td>0</td>\n",
       "    </tr>\n",
       "    <tr>\n",
       "      <th>107928939</th>\n",
       "      <td>107928939</td>\n",
       "      <td>?gameId=107928939&amp;profileId=2509560</td>\n",
       "      <td>Arabia</td>\n",
       "      <td>Tiny</td>\n",
       "      <td>1824</td>\n",
       "      <td>Definitive Edition</td>\n",
       "      <td>Hardest</td>\n",
       "      <td>data/scraped_matches/inputs/107928939.pkl</td>\n",
       "      <td>data/scraped_matches/gaia_data/107928939.pkl</td>\n",
       "      <td>TyphoonBD</td>\n",
       "      <td>AgeofPanda_21</td>\n",
       "      <td>1174</td>\n",
       "      <td>1096</td>\n",
       "      <td>Chinese</td>\n",
       "      <td>Japanese</td>\n",
       "      <td>46.0</td>\n",
       "      <td>84.0</td>\n",
       "      <td>97.0</td>\n",
       "      <td>28.0</td>\n",
       "      <td>1</td>\n",
       "    </tr>\n",
       "  </tbody>\n",
       "</table>\n",
       "</div>"
      ],
      "text/plain": [
       "            match_id                                   fn     map map_size  \\\n",
       "50453403    50453403    ?gameId=50453403&profileId=594394  Arabia     Tiny   \n",
       "64335748    64335748   ?gameId=64335748&profileId=1480279  Arabia     Tiny   \n",
       "116883036  116883036  ?gameId=116883036&profileId=3366080  Arabia     Tiny   \n",
       "125287851  125287851  ?gameId=125287851&profileId=3079077  Arabia     Tiny   \n",
       "107928939  107928939  ?gameId=107928939&profileId=2509560  Arabia     Tiny   \n",
       "\n",
       "           duration             dataset difficulty  \\\n",
       "50453403       3445  Definitive Edition    Hardest   \n",
       "64335748        851  Definitive Edition    Hardest   \n",
       "116883036      4737  Definitive Edition    Hardest   \n",
       "125287851      2899  Definitive Edition    Hardest   \n",
       "107928939      1824  Definitive Edition    Hardest   \n",
       "\n",
       "                                            input_fn  \\\n",
       "50453403    data/scraped_matches/inputs/50453403.pkl   \n",
       "64335748    data/scraped_matches/inputs/64335748.pkl   \n",
       "116883036  data/scraped_matches/inputs/116883036.pkl   \n",
       "125287851  data/scraped_matches/inputs/125287851.pkl   \n",
       "107928939  data/scraped_matches/inputs/107928939.pkl   \n",
       "\n",
       "                                                gaia_fn     p1_name  \\\n",
       "50453403    data/scraped_matches/gaia_data/50453403.pkl      Zirafo   \n",
       "64335748    data/scraped_matches/gaia_data/64335748.pkl  voltapette   \n",
       "116883036  data/scraped_matches/gaia_data/116883036.pkl       KCube   \n",
       "125287851  data/scraped_matches/gaia_data/125287851.pkl         TiM   \n",
       "107928939  data/scraped_matches/gaia_data/107928939.pkl   TyphoonBD   \n",
       "\n",
       "                 p2_name  p1_elo  p2_elo   p1_civ    p2_civ  p1_xpos  p2_xpos  \\\n",
       "50453403         Esteban     975    1233  Vikings    Mayans     92.0     24.0   \n",
       "64335748         Flood51    1154    1006   Mayans   Magyars     25.0     98.0   \n",
       "116883036       santa777     984    1116  Berbers     Slavs     83.0     30.0   \n",
       "125287851         BarDon    1708    1637  Vikings    Mayans    101.0     16.0   \n",
       "107928939  AgeofPanda_21    1174    1096  Chinese  Japanese     46.0     84.0   \n",
       "\n",
       "           p1_ypos  p2_ypos  winner  \n",
       "50453403      37.0     78.0       0  \n",
       "64335748      80.0     68.0       1  \n",
       "116883036     28.0     85.0       1  \n",
       "125287851     58.0     56.0       0  \n",
       "107928939     97.0     28.0       1  "
      ]
     },
     "execution_count": 5,
     "metadata": {},
     "output_type": "execute_result"
    }
   ],
   "source": [
    "matches_df.head()"
   ]
  },
  {
   "cell_type": "code",
   "execution_count": 25,
   "id": "1b437e94-1e25-4d90-bce3-4de49b2dbf09",
   "metadata": {},
   "outputs": [],
   "source": [
    "#load masterdata\n",
    "with open('masterdata/masterdata_dict.pkl', 'rb') as f:\n",
    "        masterdata_dict = pickle.load(f)\n",
    "\n",
    "        \n",
    "#load masterdata\n",
    "with open('masterdata/elo_frames.pkl', 'rb') as f:\n",
    "        elo_frames = pickle.load(f)"
   ]
  },
  {
   "cell_type": "code",
   "execution_count": 7,
   "id": "c9cfe74b-3656-4aa2-b87c-078909bc8758",
   "metadata": {},
   "outputs": [],
   "source": [
    "error_list = []"
   ]
  },
  {
   "cell_type": "code",
   "execution_count": 8,
   "id": "a7cc4a35-6e09-4fad-a70b-51017a3c0cd3",
   "metadata": {},
   "outputs": [],
   "source": [
    "#open ideas\n",
    "\n",
    "##market activity (sell/buy0)\n",
    "## wall \n",
    "## attack move\n",
    "## garrison/town bell"
   ]
  },
  {
   "cell_type": "code",
   "execution_count": 9,
   "id": "abce6409-1004-4ffe-a060-e84198191f68",
   "metadata": {},
   "outputs": [],
   "source": [
    "def create_snapshot(inputs_dict: dict, time: int, masterdata_dict):\n",
    "    snapshot = {}\n",
    "    players = ['p1','p2']\n",
    "    \n",
    "    #create fields\n",
    "    for player in players:\n",
    "        for age in masterdata_dict['Ages']:\n",
    "            snapshot[player+' '+age + ' Time'] = 0\n",
    "            \n",
    "        for cat in masterdata_dict:\n",
    "            if cat != 'Ages': \n",
    "                for field in masterdata_dict[cat]:\n",
    "                    snapshot[player+'_'+field] = 0\n",
    "    \n",
    "    #loop over inputs\n",
    "    for index in inputs_dict:\n",
    "        if inputs_dict[index]['ts_seconds'] <= time:\n",
    "            if inputs_dict[index]['type'] == 'Research':\n",
    "\n",
    "                #uptimes\n",
    "                for age in masterdata_dict['Ages']:\n",
    "                    if inputs_dict[index]['param'] == age:\n",
    "                        snapshot[inputs_dict[index]['player']+' '+age + ' Time'] = inputs_dict[index]['ts_seconds'] \n",
    "\n",
    "            #sum up units, builds and techs\n",
    "            for cat in masterdata_dict:\n",
    "                if inputs_dict[index]['type'] == cat:\n",
    "                        snapshot[inputs_dict[index]['player']+'_'+inputs_dict[index]['param']] +=1\n",
    "\n",
    "                    \n",
    "    return snapshot"
   ]
  },
  {
   "cell_type": "code",
   "execution_count": 10,
   "id": "4a5a1c4a-b2e2-4a42-b8cb-0c307cc77574",
   "metadata": {},
   "outputs": [
    {
     "data": {
      "text/plain": [
       "(138902, 21)"
      ]
     },
     "execution_count": 10,
     "metadata": {},
     "output_type": "execute_result"
    }
   ],
   "source": [
    "matches_df['avg_elo'] = (matches_df['p1_elo'] + matches_df['p2_elo'] )/2\n",
    "matches_df.shape"
   ]
  },
  {
   "cell_type": "code",
   "execution_count": 26,
   "id": "51093fc9-d5e9-4c5f-8d94-3d0552b263c0",
   "metadata": {},
   "outputs": [
    {
     "data": {
      "text/plain": [
       "{'low': {'lb': 0, 'ub': 1062, 'label': 'Low Elo'},\n",
       " 'medium': {'lb': 1062, 'ub': 1501, 'label': 'Medium Elo'},\n",
       " 'high': {'lb': 1501, 'ub': 3000, 'label': 'High Elo'}}"
      ]
     },
     "execution_count": 26,
     "metadata": {},
     "output_type": "execute_result"
    }
   ],
   "source": [
    "elo_frames"
   ]
  },
  {
   "cell_type": "code",
   "execution_count": 27,
   "id": "bccc9528-48bc-4e66-8aa2-2b2243022cd7",
   "metadata": {},
   "outputs": [],
   "source": [
    "#settings\n",
    "time_list = [t for t in range(0,5121,120)]\n",
    "time_reduction = False\n",
    "time_start = 0"
   ]
  },
  {
   "cell_type": "code",
   "execution_count": null,
   "id": "8d50a3a2-498d-4136-b4ac-10ba63bab660",
   "metadata": {},
   "outputs": [
    {
     "name": "stdout",
     "output_type": "stream",
     "text": [
      "TF: 3480- Created: 73000/138902- Error on:00\r"
     ]
    }
   ],
   "source": [
    "for time in time_list:\n",
    "    \n",
    "    if time < time_start:\n",
    "        continue\n",
    "    \n",
    "    \n",
    "    if time_reduction:\n",
    "        time_matches_df = matches_df[matches_df['duration']>=time]\n",
    "    else:\n",
    "        time_matches_df = matches_df\n",
    "        \n",
    "    #create empty dicts for Tab Data full and with elo steps\n",
    "    tab_data = {}\n",
    "\n",
    "\n",
    "    game_cols = ['map', 'map_size', 'duration', 'p1_civ', 'p2_civ', 'winner']\n",
    "    count = 0\n",
    "    errors = 0\n",
    "\n",
    "    for index, row in time_matches_df.iterrows(): \n",
    "        \n",
    "        if True: \n",
    "            with open(row['input_fn'], 'rb') as f:\n",
    "                inputs_dict = pickle.load(f)\n",
    "\n",
    "            #create row identifier\n",
    "            row_id = str(row['match_id'])+'_'+str(time)\n",
    "            tab_data[row_id] = {}\n",
    "\n",
    "            #game info\n",
    "            tab_data[row_id]['match_id'] = row['match_id']\n",
    "            tab_data[row_id]['avg_elo'] = row['avg_elo']\n",
    "\n",
    "            #set time\n",
    "            tab_data[row_id]['time'] = time\n",
    "\n",
    "            for col in game_cols:\n",
    "                tab_data[row_id][col] = row[col]\n",
    "\n",
    "            #create snapshot and fill row\n",
    "            snapshot = create_snapshot(inputs_dict,time,masterdata_dict)\n",
    "            for key in snapshot:\n",
    "                tab_data[row_id][key] = snapshot[key]\n",
    "        \n",
    "\n",
    "            #output info\n",
    "            count += 1\n",
    "\n",
    "        else:#except:\n",
    "            error_list.append(row['match_id'])\n",
    "            errors +=1\n",
    "\n",
    "        if count % 1000 == 0:\n",
    "            print_txt(f'TF: {time}- Created: {count}/{len(time_matches_df)}- Error on:{errors}')\n",
    "\n",
    "    \n",
    "    #clean errors\n",
    "    for match_id in error_list:\n",
    "        if match_id in tab_data:\n",
    "            tab_data.remove(match_id)        \n",
    "            \n",
    "    \n",
    "    #persitate\n",
    "    tab_data_df = pd.DataFrame.from_dict(tab_data, orient='index')\n",
    "    output = open(f'data/minn/elo_all/recordfile_tab_data_{time}.pkl' , 'wb')\n",
    "    pickle.dump(tab_data_df, output)\n",
    "    \n",
    "\n",
    "        "
   ]
  },
  {
   "cell_type": "code",
   "execution_count": 30,
   "id": "8c962b04-d5d2-4855-8585-43f3d9b59b63",
   "metadata": {},
   "outputs": [
    {
     "data": {
      "text/plain": [
       "{'low': {'lb': 0, 'ub': 1062, 'label': 'Low Elo'},\n",
       " 'medium': {'lb': 1062, 'ub': 1501, 'label': 'Medium Elo'},\n",
       " 'high': {'lb': 1501, 'ub': 3000, 'label': 'High Elo'}}"
      ]
     },
     "execution_count": 30,
     "metadata": {},
     "output_type": "execute_result"
    }
   ],
   "source": [
    "elo_frames"
   ]
  },
  {
   "cell_type": "code",
   "execution_count": 42,
   "id": "f05d4fc2-5100-4da3-8901-3abbe1738e6e",
   "metadata": {},
   "outputs": [
    {
     "name": "stdout",
     "output_type": "stream",
     "text": [
      "5040 - Elo: high - len 13922         \r"
     ]
    }
   ],
   "source": [
    "for tf in time_list: \n",
    "        with open(f\"data/minn/elo_all/recordfile_tab_data_{tf}.pkl\", 'rb') as f:\n",
    "            full_df = pickle.load(f)\n",
    "\n",
    "        for elo_key in elo_frames:\n",
    "            elo_tab_data_df =  full_df[(full_df['avg_elo']>= elo_frames[elo_key]['lb']) & (full_df['avg_elo']< elo_frames[elo_key]['ub'])]\n",
    "            output = open(f'data/minn/elo_{elo_key}/recordfile_tab_data_{tf}.pkl' , 'wb')\n",
    "            pickle.dump(elo_tab_data_df, output)\n",
    "            print_txt(f'{tf} - Elo: {elo_key} - len {len(elo_tab_data_df)}       ')"
   ]
  },
  {
   "cell_type": "code",
   "execution_count": null,
   "id": "261ec6d5-7b53-4f44-99d9-0066ac6b7ef0",
   "metadata": {},
   "outputs": [],
   "source": []
  },
  {
   "cell_type": "code",
   "execution_count": null,
   "id": "2fb9ba8d-deb2-4850-bfe1-7e3106c94466",
   "metadata": {},
   "outputs": [],
   "source": [
    "#cols = tab_data_df.columns.tolist()\n",
    "#cols[0]"
   ]
  },
  {
   "cell_type": "code",
   "execution_count": null,
   "id": "20f29d65-f428-48e1-a129-9fcc7a5dcbc3",
   "metadata": {},
   "outputs": [],
   "source": [
    "#persistate\n",
    "#output = open('masterdata/tab_data_cols.pkl' , 'wb')\n",
    "#pickle.dump(cols, output)\n",
    "#output.close()"
   ]
  },
  {
   "cell_type": "code",
   "execution_count": null,
   "id": "d70a48e1-47c1-434a-8f46-ec7d6455c093",
   "metadata": {},
   "outputs": [],
   "source": [
    "tab_data_df.shape"
   ]
  },
  {
   "cell_type": "code",
   "execution_count": null,
   "id": "3273219e-5d4f-4342-b498-8d3fd2794fff",
   "metadata": {},
   "outputs": [],
   "source": [
    "tab_data_df.head()"
   ]
  },
  {
   "cell_type": "code",
   "execution_count": null,
   "id": "bc41d7ff-b2d4-439c-91e3-331a13a55b71",
   "metadata": {},
   "outputs": [],
   "source": [
    "tab_data_df.columns"
   ]
  },
  {
   "cell_type": "code",
   "execution_count": null,
   "id": "b2145698-9730-4ad1-a495-d908e2e5f67b",
   "metadata": {},
   "outputs": [],
   "source": [
    "#onehot\n",
    "##map \n",
    "##mapsize\n",
    "##civ\n"
   ]
  },
  {
   "cell_type": "code",
   "execution_count": null,
   "id": "2e226790-2150-4ce0-adf8-3edbc25da6c4",
   "metadata": {},
   "outputs": [],
   "source": [
    "\n",
    "\n",
    "#x = torch.tensor([\"1\", 3, 2, 1, 0])\n",
    "#F.one_hot(x, num_classes=8)"
   ]
  },
  {
   "cell_type": "code",
   "execution_count": null,
   "id": "7f6ee3d5-8f39-4893-a499-94556d53daa5",
   "metadata": {},
   "outputs": [],
   "source": [
    "#x"
   ]
  },
  {
   "cell_type": "code",
   "execution_count": null,
   "id": "ac0adde0-dd4a-4a6e-9792-7f2fc4b28764",
   "metadata": {},
   "outputs": [],
   "source": [
    "#F"
   ]
  },
  {
   "cell_type": "code",
   "execution_count": null,
   "id": "93701534-7c78-44a5-a6de-2622e380529d",
   "metadata": {},
   "outputs": [],
   "source": []
  }
 ],
 "metadata": {
  "kernelspec": {
   "display_name": "aoeanalytics2",
   "language": "python",
   "name": "aoeanalytics2"
  },
  "language_info": {
   "codemirror_mode": {
    "name": "ipython",
    "version": 3
   },
   "file_extension": ".py",
   "mimetype": "text/x-python",
   "name": "python",
   "nbconvert_exporter": "python",
   "pygments_lexer": "ipython3",
   "version": "3.8.12"
  }
 },
 "nbformat": 4,
 "nbformat_minor": 5
}
