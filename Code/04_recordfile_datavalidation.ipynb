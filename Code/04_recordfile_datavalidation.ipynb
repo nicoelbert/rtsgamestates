{
 "cells": [
  {
   "cell_type": "code",
   "execution_count": 1,
   "id": "286dfd94-9179-4f01-ac45-88be3e7eb3d6",
   "metadata": {},
   "outputs": [
    {
     "name": "stdout",
     "output_type": "stream",
     "text": [
      " 00_aoe2net_recordfiles_scraper.ipynb\n",
      " 01a_recordfiles_error_deleter.ipynb\n",
      " 01b_recordfiles_cleaner.ipynb\n",
      " 01_recordfiles_unzipper.ipynb\n",
      " 02b_recordfiles_live_preprocessing.ipynb\n",
      " 02c_recordfiles_masterdatamanagement.ipynb\n",
      " 02d_recordfiles_filter.ipynb\n",
      " 02_recordfiles_preprocessing.ipynb\n",
      " 03a_recordfiles_input_plot_gen.ipynb\n",
      " 03b_recordfiles_tab_data.ipynb\n",
      " 03c_recordfiles_tree_rep.ipynb\n",
      " 03d_recordfiles_input_gaia_preprocessing.ipynb\n",
      " 03e_recordfiles_input_cnn_preprocessing.ipynb\n",
      " 04_recordfile_datavalidation.ipynb\n",
      " 05b_recordfile_shap.ipynb\n",
      " 05c_recordfiles_gaia_cnn.ipynb\n",
      " 05d_recordfiles_input_cnn.ipynb\n",
      " 05_recordfile_midnn.ipynb\n",
      " AA_dataset_analysis.ipynb\n",
      " \u001b[0m\u001b[01;34maoe2net_aoe2insights_joint_analytics\u001b[0m/\n",
      " \u001b[01;34mdata\u001b[0m/\n",
      " gaia_plot_opim.ipynb\n",
      " \u001b[01;34minitial_exploration\u001b[0m/\n",
      " \u001b[01;34mlightning_logs\u001b[0m/\n",
      " \u001b[01;34mmasterdata\u001b[0m/\n",
      "\u001b[01;34m'Master Thesis'\u001b[0m/\n",
      " \u001b[01;34mobsolete\u001b[0m/\n",
      " \u001b[01;34mOutputs\u001b[0m/\n",
      " parser_test.ipynb\n",
      " README.md\n",
      " recordfile_preprocessing\n",
      " requirements.txt\n",
      " seq_net.html\n",
      " test.txt\n"
     ]
    }
   ],
   "source": [
    "ls"
   ]
  },
  {
   "cell_type": "code",
   "execution_count": 2,
   "id": "910c833e-66ee-477b-b1f8-69f740788275",
   "metadata": {},
   "outputs": [],
   "source": [
    "import pickle\n",
    "import numpy as np\n",
    "import pandas as pd\n",
    "from pathlib import Path\n"
   ]
  },
  {
   "cell_type": "code",
   "execution_count": 3,
   "id": "9a00c228-c4e7-49e5-a84b-30f571da675c",
   "metadata": {},
   "outputs": [
    {
     "ename": "FileNotFoundError",
     "evalue": "[Errno 2] No such file or directory: 'data/minn/recordfile_tab_data_raw.pkl'",
     "output_type": "error",
     "traceback": [
      "\u001b[0;31m---------------------------------------------------------------------------\u001b[0m",
      "\u001b[0;31mFileNotFoundError\u001b[0m                         Traceback (most recent call last)",
      "Input \u001b[0;32mIn [3]\u001b[0m, in \u001b[0;36m<cell line: 2>\u001b[0;34m()\u001b[0m\n\u001b[1;32m      1\u001b[0m \u001b[38;5;66;03m#load tab_data\u001b[39;00m\n\u001b[0;32m----> 2\u001b[0m \u001b[38;5;28;01mwith\u001b[39;00m \u001b[38;5;28;43mopen\u001b[39;49m\u001b[43m(\u001b[49m\u001b[38;5;124;43m'\u001b[39;49m\u001b[38;5;124;43mdata/minn/recordfile_tab_data_raw.pkl\u001b[39;49m\u001b[38;5;124;43m'\u001b[39;49m\u001b[43m \u001b[49m\u001b[43m,\u001b[49m\u001b[43m \u001b[49m\u001b[38;5;124;43m'\u001b[39;49m\u001b[38;5;124;43mrb\u001b[39;49m\u001b[38;5;124;43m'\u001b[39;49m\u001b[43m)\u001b[49m \u001b[38;5;28;01mas\u001b[39;00m f:\n\u001b[1;32m      3\u001b[0m         tab_data_df \u001b[38;5;241m=\u001b[39m pickle\u001b[38;5;241m.\u001b[39mload(f)\n\u001b[1;32m      4\u001b[0m tab_data_df\u001b[38;5;241m.\u001b[39mshape\n",
      "\u001b[0;31mFileNotFoundError\u001b[0m: [Errno 2] No such file or directory: 'data/minn/recordfile_tab_data_raw.pkl'"
     ]
    }
   ],
   "source": [
    "#load tab_data\n",
    "with open('data/minn/recordfile_tab_data_raw.pkl' , 'rb') as f:\n",
    "        tab_data_df = pickle.load(f)\n",
    "tab_data_df.shape"
   ]
  },
  {
   "cell_type": "code",
   "execution_count": null,
   "id": "e2176d6a-36c4-42e2-8f8e-9ff321761b29",
   "metadata": {},
   "outputs": [],
   "source": [
    "tab_data_df.head()"
   ]
  },
  {
   "cell_type": "code",
   "execution_count": null,
   "id": "c572af6f-e94f-4342-abad-dae95041e5e0",
   "metadata": {},
   "outputs": [],
   "source": [
    "#check for all imgf if file exists\n",
    "found = 0\n",
    "not_found = 0\n",
    "index_tbd = []\n",
    "\n",
    "\n",
    "for index, row in tab_data_df.iterrows():\n",
    "    fn = row['imgf_Move_layer']\n",
    "    if Path(f'data/minn/{fn}').is_file():\n",
    "        found += 1\n",
    "    else:\n",
    "        not_found += 1\n",
    "        index_tbd.append(index)\n",
    "        "
   ]
  },
  {
   "cell_type": "code",
   "execution_count": null,
   "id": "28edacbd-9a73-4942-9ba1-06b93e84b456",
   "metadata": {},
   "outputs": [],
   "source": [
    "found, not_found"
   ]
  },
  {
   "cell_type": "code",
   "execution_count": null,
   "id": "747f6927-e1d7-42cf-96d6-b4b654696a8d",
   "metadata": {},
   "outputs": [],
   "source": [
    "sync_tab_data_df = tab_data_df.drop(index_tbd)"
   ]
  },
  {
   "cell_type": "code",
   "execution_count": null,
   "id": "0903fc42-6ad7-4652-8016-931e5fe291bb",
   "metadata": {},
   "outputs": [],
   "source": [
    "sync_tab_data_df.shape"
   ]
  },
  {
   "cell_type": "code",
   "execution_count": null,
   "id": "97abc297-7d8f-43c1-8a64-ec2b5049284e",
   "metadata": {},
   "outputs": [],
   "source": [
    "#write back\n",
    "output = open('data/minn/recordfile_tab_data.pkl' , 'wb')\n",
    "pickle.dump(sync_tab_data_df, output)\n",
    "output.close()"
   ]
  },
  {
   "cell_type": "code",
   "execution_count": null,
   "id": "89db1881-ed55-4849-b850-0edf7e9651d2",
   "metadata": {},
   "outputs": [],
   "source": []
  }
 ],
 "metadata": {
  "kernelspec": {
   "display_name": "aoeanalytics2",
   "language": "python",
   "name": "aoeanalytics2"
  },
  "language_info": {
   "codemirror_mode": {
    "name": "ipython",
    "version": 3
   },
   "file_extension": ".py",
   "mimetype": "text/x-python",
   "name": "python",
   "nbconvert_exporter": "python",
   "pygments_lexer": "ipython3",
   "version": "3.8.12"
  }
 },
 "nbformat": 4,
 "nbformat_minor": 5
}
