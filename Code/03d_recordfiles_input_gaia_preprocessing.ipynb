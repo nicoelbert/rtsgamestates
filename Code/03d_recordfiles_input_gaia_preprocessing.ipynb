{
 "cells": [
  {
   "cell_type": "code",
   "execution_count": 1,
   "id": "41f1f47e-4063-4c01-89eb-27c51a47e5b7",
   "metadata": {},
   "outputs": [],
   "source": [
    "import numpy as np\n",
    "import pandas as pd\n",
    "import torch\n",
    "import json\n",
    "import os\n",
    "import pickle\n",
    "from collections import OrderedDict\n",
    "import psutil\n",
    "import gc"
   ]
  },
  {
   "cell_type": "code",
   "execution_count": 2,
   "id": "3b429eb5-9775-4e59-92be-00855c7e89c6",
   "metadata": {},
   "outputs": [],
   "source": [
    "def print_txt(msg: str):\n",
    "    print(msg, end = '\\r')\n",
    "    text_file = open(\"Outputs/gaia_preprocessing.txt\", \"w\")\n",
    "    text_file.write(msg)\n",
    "    text_file.close()"
   ]
  },
  {
   "cell_type": "code",
   "execution_count": 3,
   "id": "b06a28c4-2fff-4dc7-abd2-ade51618ebc7",
   "metadata": {},
   "outputs": [],
   "source": [
    "##directorys\n",
    "input_path = 'data/scraped_matches/inputs/'\n",
    "gaia_path = 'data/scraped_matches/gaia_data/'"
   ]
  },
  {
   "cell_type": "code",
   "execution_count": 4,
   "id": "e1fffbb5-57ad-44f7-be9a-0890fa8e436b",
   "metadata": {},
   "outputs": [],
   "source": [
    "#load data\n",
    "with open('data/scraped_matches/parsed_matches/arabia_matches.pkl', 'rb') as f:\n",
    "    org_matches = pickle.load(f)\n",
    "matches = org_matches\n",
    "\n",
    "#load masterdata\n",
    "with open('masterdata/gaia_masterdata.pkl', 'rb') as f:\n",
    "    gaia_masterdata = pickle.load(f)\n",
    "with open('masterdata/gaia_masterdata_reversed.pkl', 'rb') as f:\n",
    "    gaia_data_rev = pickle.load(f)\n",
    "    \n",
    "gaia_types = list(gaia_masterdata.keys())"
   ]
  },
  {
   "cell_type": "code",
   "execution_count": null,
   "id": "db240ddd-07f5-47b8-a64d-b2f543a1a65c",
   "metadata": {},
   "outputs": [],
   "source": []
  },
  {
   "cell_type": "code",
   "execution_count": 5,
   "id": "f9f80e21-08e4-47aa-8b91-2757dd0eaeaa",
   "metadata": {},
   "outputs": [
    {
     "data": {
      "text/plain": [
       "['tree',\n",
       " 'animal_gatherable',\n",
       " 'animal_hostile',\n",
       " 'animal_herdable',\n",
       " 'aquatic_animal',\n",
       " 'gold_mine',\n",
       " 'stone_mine',\n",
       " 'relic',\n",
       " 'food',\n",
       " 'p1_tc',\n",
       " 'p2_tc']"
      ]
     },
     "execution_count": 5,
     "metadata": {},
     "output_type": "execute_result"
    }
   ],
   "source": [
    "gaia_types"
   ]
  },
  {
   "cell_type": "code",
   "execution_count": 6,
   "id": "9cfaf5e1-6bc7-4d33-8cba-ee8956e1c15e",
   "metadata": {},
   "outputs": [],
   "source": [
    "match = matches['50453403']\n",
    "match_id = '50453403'"
   ]
  },
  {
   "cell_type": "code",
   "execution_count": 7,
   "id": "0e5808f0-3d1e-45ed-bc66-040472d455eb",
   "metadata": {},
   "outputs": [
    {
     "name": "stdout",
     "output_type": "stream",
     "text": [
      "138000/138902\r"
     ]
    }
   ],
   "source": [
    "gaia_matchids = []\n",
    "gaia_labels = {}\n",
    "\n",
    "for index,match_id in enumerate(matches):\n",
    "    match = matches[match_id]\n",
    "\n",
    "\n",
    "    with open(match['gaia_fn'], 'rb') as f:\n",
    "        gaia_data = pickle.load(f)\n",
    "\n",
    "\n",
    "    #init empty arrays of shape map size\n",
    "    arrays = {}\n",
    "    for type in gaia_types:\n",
    "        arrays[type] = np.zeros(shape=(120,120))\n",
    "\n",
    "    #read tc position\n",
    "    arrays['p1_tc'][int(match['p1_ypos'])][int(match['p1_xpos'])] = 1\n",
    "    arrays['p2_tc'][int(match['p2_ypos'])][int(match['p2_xpos'])] = 1\n",
    "\n",
    "    for id in gaia_data:\n",
    "        obj = gaia_data[id]\n",
    "        try:\n",
    "            #fill values into arrays\n",
    "            type = gaia_data_rev[obj['name']]\n",
    "            arrays[type][int(obj['y_pos'])][int(obj['x_pos'])] = 1\n",
    "        except:\n",
    "            pass\n",
    "\n",
    "    array_list = []\n",
    "    for i in arrays:\n",
    "        array_list.append(arrays[i])\n",
    "\n",
    "    md_array =  np.stack(array_list, axis=0)\n",
    "    tensor = torch.tensor(md_array)\n",
    "    \n",
    "    #persistate tensor\n",
    "    output = open(f'data/feature_maps/gaia/{match_id}.pkl' , 'wb')\n",
    "    pickle.dump(tensor, output)\n",
    "    output.close()\n",
    "    \n",
    "    #safe label and match_id\n",
    "    gaia_labels[match_id] = match['winner']\n",
    "    gaia_matchids.append(match_id)\n",
    "    \n",
    "    if index % 1000 == 0:\n",
    "        print_txt(f'{index}/{len(matches)}')\n"
   ]
  },
  {
   "cell_type": "code",
   "execution_count": 8,
   "id": "4e3b1c12-4808-4dd0-b7cb-3d58bb3edcde",
   "metadata": {},
   "outputs": [],
   "source": [
    "\n",
    "output = open('data/feature_maps/gaia_matchids.pkl' , 'wb')\n",
    "pickle.dump(gaia_matchids, output)\n",
    "output.close()\n",
    "output = open('data/feature_maps/gaia_labels.pkl' , 'wb')\n",
    "pickle.dump(gaia_labels, output)\n",
    "output.close()\n"
   ]
  },
  {
   "cell_type": "code",
   "execution_count": 9,
   "id": "1ad25129-bb3c-485d-8987-385426fa6831",
   "metadata": {},
   "outputs": [
    {
     "name": "stdout",
     "output_type": "stream",
     "text": [
      "check\r"
     ]
    }
   ],
   "source": [
    "print_txt(\"check\")"
   ]
  },
  {
   "cell_type": "code",
   "execution_count": null,
   "id": "75204ae1-7ba5-48fb-802d-f29dbc6f36c4",
   "metadata": {},
   "outputs": [],
   "source": []
  }
 ],
 "metadata": {
  "kernelspec": {
   "display_name": "aoeanalytics2",
   "language": "python",
   "name": "aoeanalytics2"
  },
  "language_info": {
   "codemirror_mode": {
    "name": "ipython",
    "version": 3
   },
   "file_extension": ".py",
   "mimetype": "text/x-python",
   "name": "python",
   "nbconvert_exporter": "python",
   "pygments_lexer": "ipython3",
   "version": "3.8.12"
  }
 },
 "nbformat": 4,
 "nbformat_minor": 5
}
