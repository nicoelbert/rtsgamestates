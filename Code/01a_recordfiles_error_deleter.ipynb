{
 "cells": [
  {
   "cell_type": "code",
   "execution_count": 3,
   "id": "dcc8c5ad-2ce1-436b-86a8-e28709085f3b",
   "metadata": {},
   "outputs": [
    {
     "name": "stdout",
     "output_type": "stream",
     "text": [
      "407992407743 - 407743\n",
      "225399\n"
     ]
    }
   ],
   "source": [
    "import os\n",
    "import zipfile\n",
    "import pickle\n",
    "from mgz import header, body\n",
    "from mgz.model import parse_match\n",
    "import os\n",
    "\n",
    "#settings\n",
    "zip_path = \"data/scraped_matches/zipped_recordfiles/\"\n",
    "unzip_path = \"data/scraped_matches/unzipped_recordfiles/\"\n",
    "\n",
    "directory = os.fsencode(zip_path)\n",
    "file_list = os.listdir(directory)\n",
    "\n",
    "error_files = []\n",
    "\n",
    "#load errorfiles\n",
    "with open('data/scraped_matches/unzipper/parseable_fns.pkl', 'rb') as f:\n",
    "        parseable_fns = pickle.load(f)\n",
    "\n",
    "\n",
    "for index, file in enumerate(file_list):\n",
    "    filename = os.fsdecode(file)\n",
    "    if filename not in parseable_fns:\n",
    "        error_files.append(filename)\n",
    "\n",
    "    if index % 1000 == 0:\n",
    "        print(str(index)+str(len(error_files)) + \" - \" + str(len(error_files)), end = '\\r')\n",
    "\n"
   ]
  },
  {
   "cell_type": "code",
   "execution_count": null,
   "id": "1c9b0824-7f38-430e-8947-cb33b26e3b4c",
   "metadata": {},
   "outputs": [],
   "source": [
    "if False:\n",
    "    for index, file in enumerate(error_files):\n",
    "        os.remove(zip_path + file)"
   ]
  }
 ],
 "metadata": {
  "kernelspec": {
   "display_name": "aoeanalytics2",
   "language": "python",
   "name": "aoeanalytics2"
  },
  "language_info": {
   "codemirror_mode": {
    "name": "ipython",
    "version": 3
   },
   "file_extension": ".py",
   "mimetype": "text/x-python",
   "name": "python",
   "nbconvert_exporter": "python",
   "pygments_lexer": "ipython3",
   "version": "3.8.12"
  }
 },
 "nbformat": 4,
 "nbformat_minor": 5
}
