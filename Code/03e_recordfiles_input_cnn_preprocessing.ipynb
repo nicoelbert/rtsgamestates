{
 "cells": [
  {
   "cell_type": "code",
   "execution_count": 1,
   "id": "41f1f47e-4063-4c01-89eb-27c51a47e5b7",
   "metadata": {},
   "outputs": [],
   "source": [
    "import numpy as np\n",
    "import pandas as pd\n",
    "import torch\n",
    "import json\n",
    "import os\n",
    "import pickle\n",
    "from collections import OrderedDict\n",
    "import psutil\n",
    "import gc"
   ]
  },
  {
   "cell_type": "code",
   "execution_count": 2,
   "id": "3b429eb5-9775-4e59-92be-00855c7e89c6",
   "metadata": {},
   "outputs": [],
   "source": [
    "def print_txt(msg: str):\n",
    "    print(msg, end = '\\r')\n",
    "    text_file = open(\"Outputs/input_cnn_preprocessing.txt\", \"w\")\n",
    "    text_file.write(msg)\n",
    "    text_file.close()"
   ]
  },
  {
   "cell_type": "code",
   "execution_count": 3,
   "id": "b06a28c4-2fff-4dc7-abd2-ade51618ebc7",
   "metadata": {},
   "outputs": [],
   "source": [
    "##directorys\n",
    "input_path = 'data/scraped_matches/inputs/'\n",
    "gaia_path = 'data/scraped_matches/gaia_data/'\n",
    "\n",
    "#players\n",
    "player_ids = ['p1','p2']\n",
    "player_winner_dict = {0: 'p1',1: 'p2'}"
   ]
  },
  {
   "cell_type": "code",
   "execution_count": 4,
   "id": "e1fffbb5-57ad-44f7-be9a-0890fa8e436b",
   "metadata": {},
   "outputs": [],
   "source": [
    "#load data\n",
    "with open('data/scraped_matches/parsed_matches/arabia_matches.pkl', 'rb') as f:\n",
    "    org_matches = pickle.load(f)\n",
    "matches = org_matches\n",
    "\n",
    "#load masterdata\n",
    "with open('masterdata/masterdata_dict.pkl', 'rb') as f:\n",
    "        masterdata_dict = pickle.load(f)\n",
    "\n",
    "with open('masterdata/unit_type_dict.pkl', 'rb') as f:\n",
    "        unit_type_dict = pickle.load(f)        \n",
    "\n",
    "with open('masterdata/unit_masterdata_dict.pkl', 'rb') as f:\n",
    "        unit_masterdata_dict = pickle.load(f)      \n",
    "        \n",
    "        \n"
   ]
  },
  {
   "cell_type": "code",
   "execution_count": 5,
   "id": "9cfaf5e1-6bc7-4d33-8cba-ee8956e1c15e",
   "metadata": {},
   "outputs": [
    {
     "data": {
      "text/plain": [
       "{'match_id': '50453403',\n",
       " 'fn': '?gameId=50453403&profileId=594394',\n",
       " 'map': 'Arabia',\n",
       " 'map_size': 'Tiny',\n",
       " 'duration': 3445,\n",
       " 'dataset': 'Definitive Edition',\n",
       " 'difficulty': 'Hardest',\n",
       " 'input_fn': 'data/scraped_matches/inputs/50453403.pkl',\n",
       " 'gaia_fn': 'data/scraped_matches/gaia_data/50453403.pkl',\n",
       " 'p1_name': 'Zirafo',\n",
       " 'p2_name': 'Esteban',\n",
       " 'p1_elo': 975,\n",
       " 'p2_elo': 1233,\n",
       " 'p1_civ': 'Vikings',\n",
       " 'p2_civ': 'Mayans',\n",
       " 'p1_xpos': 92.0,\n",
       " 'p2_xpos': 24.0,\n",
       " 'p1_ypos': 37.0,\n",
       " 'p2_ypos': 78.0,\n",
       " 'winner': 0}"
      ]
     },
     "execution_count": 5,
     "metadata": {},
     "output_type": "execute_result"
    }
   ],
   "source": [
    "match = matches['50453403']\n",
    "match_id = '50453403'\n",
    "match"
   ]
  },
  {
   "cell_type": "code",
   "execution_count": 6,
   "id": "1a3245f0-f9e0-49ba-92b0-99bf0fc92e0b",
   "metadata": {},
   "outputs": [],
   "source": [
    "with open(matches[match_id]['input_fn'], 'rb') as f:\n",
    "            inputs = pickle.load(f)"
   ]
  },
  {
   "cell_type": "code",
   "execution_count": 7,
   "id": "99762912-3110-4506-8b1d-69bfe861f35a",
   "metadata": {},
   "outputs": [],
   "source": [
    "type_dict = {}\n",
    "for id in inputs:\n",
    "    input = inputs[id]\n",
    "    if input['type'] not in type_dict:\n",
    "        type_dict[input['type']] = input\n"
   ]
  },
  {
   "cell_type": "code",
   "execution_count": 8,
   "id": "60aa90d5-8b81-470c-a509-6485a5b548f4",
   "metadata": {},
   "outputs": [
    {
     "data": {
      "text/plain": [
       "dict_keys(['Queue', 'Research', 'Build', 'Move', 'Gather Point', 'Gather', 'De Autoscout', 'Order', 'Garrison', 'Ungarrison', 'Wall', 'Target', 'Delete', 'Spawn', 'Back To Work', 'Unqueue', 'Repair', 'Reseed', 'Chat', 'Farm Autoqueue', 'Town Bell', 'Stance', 'Pack Trebuchet', 'Formation', 'Resign'])"
      ]
     },
     "execution_count": 8,
     "metadata": {},
     "output_type": "execute_result"
    }
   ],
   "source": [
    "type_dict.keys()\n",
    "#start with move_target_build\n",
    "#inputs"
   ]
  },
  {
   "cell_type": "code",
   "execution_count": 11,
   "id": "0e5808f0-3d1e-45ed-bc66-040472d455eb",
   "metadata": {},
   "outputs": [
    {
     "name": "stdout",
     "output_type": "stream",
     "text": [
      "{'ts_seconds': 98, 'timestamp': '0:01:38.912000', 'type': 'Move', 'param': 'None', 'payload': \"{'object_ids': [2221]}\", 'player': 'p1', 'position': 'Position(x=2.5, y=121.5)', 'x_pos': 2.5, 'y_pos': 121.5}\n",
      "{'ts_seconds': 165, 'timestamp': '0:02:45.638000', 'type': 'Move', 'param': 'None', 'payload': \"{'object_ids': [2214]}\", 'player': 'p2', 'position': 'Position(x=2.5, y=121.5)', 'x_pos': 2.5, 'y_pos': 121.5}\n",
      "{'ts_seconds': 381, 'timestamp': '0:06:21.275000', 'type': 'Move', 'param': 'None', 'payload': \"{'object_ids': [1896]}\", 'player': 'p2', 'position': 'Position(x=2.5, y=121.5)', 'x_pos': 2.5, 'y_pos': 121.5}\n",
      "{'ts_seconds': 588, 'timestamp': '0:09:48.688000', 'type': 'Move', 'param': 'None', 'payload': \"{'object_ids': [1601]}\", 'player': 'p2', 'position': 'Position(x=2.5, y=121.5)', 'x_pos': 2.5, 'y_pos': 121.5}\n",
      "138000/138902 - torch.Size([6, 120, 120]) \r"
     ]
    }
   ],
   "source": [
    "rel_input_types = ['Build','Move','Target']\n",
    "timelimit = 1800\n",
    "\n",
    "input_matchids = []\n",
    "input_labels = {}\n",
    "\n",
    "input_level_types = {}\n",
    "\n",
    "for index,match_id in enumerate(matches):\n",
    "    #determine winner of each match\n",
    "    winner = player_ids[matches[match_id]['winner']]\n",
    "    \n",
    "    #open inputs\n",
    "    with open(matches[match_id]['input_fn'], 'rb') as f:\n",
    "                    inputs = pickle.load(f)\n",
    "    \n",
    "    \"\"\"\n",
    "    for p_id in player_ids:\n",
    "        create 2 views per match\n",
    "    view_id = str(match_id) + '_' + p_id\n",
    "\n",
    "    if player_winner_dict[match['winner']] == p_id:\n",
    "        win_label = 1\n",
    "    else:\n",
    "        win_label = 0\n",
    "    \n",
    "    \n",
    "    \"\"\"\n",
    "    array_list = []\n",
    "    #init empty arrays of shape map size\n",
    "    for p_id in player_ids:  \n",
    "        arrays = {}\n",
    "        for type in rel_input_types:\n",
    "            arrays[type] = np.zeros(shape=(120,120))\n",
    "\n",
    "        for input_id in inputs:\n",
    "            input = inputs[input_id]\n",
    "\n",
    "\n",
    "            if input['type'] in rel_input_types and input['ts_seconds']<=timelimit and p_id == input['player']:\n",
    "                try:\n",
    "                    #fill values into arrays\n",
    "                    arrays[input['type']][int(input['y_pos'])-1][int(input['x_pos'])-1] = 1\n",
    "                except:\n",
    "                    print(input)\n",
    "\n",
    "\n",
    "        \n",
    "        for i in arrays:\n",
    "            array_list.append(arrays[i])\n",
    "\n",
    "    md_array =  np.stack(array_list, axis=0)\n",
    "    tensor = torch.tensor(md_array)\n",
    "\n",
    "    #persistate tensor\n",
    "    output = open(f'data/feature_maps/inputs/{match_id}.pkl' , 'wb')\n",
    "    pickle.dump(tensor, output)\n",
    "    output.close()\n",
    "\n",
    "    #safe label and match_id\n",
    "    input_labels[match_id] = match['winner']#win_label\n",
    "    input_matchids.append(match_id)\n",
    "\n",
    "    #input_labels[view_id] = win_label\n",
    "    #input_matchids.append(view_id)\n",
    "\n",
    "    if index % 1000 == 0:\n",
    "        print_txt(f'{index}/{len(matches)} - {tensor.shape} ')\n"
   ]
  },
  {
   "cell_type": "code",
   "execution_count": 10,
   "id": "4e3b1c12-4808-4dd0-b7cb-3d58bb3edcde",
   "metadata": {},
   "outputs": [],
   "source": [
    "\n",
    "output = open('data/feature_maps/input_matchids.pkl' , 'wb')\n",
    "pickle.dump(input_matchids, output)\n",
    "output.close()\n",
    "output = open('data/feature_maps/input_labels.pkl' , 'wb')\n",
    "pickle.dump(input_labels, output)\n",
    "output.close()\n"
   ]
  },
  {
   "cell_type": "code",
   "execution_count": 11,
   "id": "1ad25129-bb3c-485d-8987-385426fa6831",
   "metadata": {},
   "outputs": [],
   "source": [
    "print_txt(\"check\")"
   ]
  },
  {
   "cell_type": "code",
   "execution_count": null,
   "id": "75204ae1-7ba5-48fb-802d-f29dbc6f36c4",
   "metadata": {},
   "outputs": [],
   "source": []
  },
  {
   "cell_type": "code",
   "execution_count": null,
   "id": "8402433a-298c-4fc4-8dff-dd79831b2f46",
   "metadata": {},
   "outputs": [],
   "source": []
  }
 ],
 "metadata": {
  "kernelspec": {
   "display_name": "aoeanalytics2",
   "language": "python",
   "name": "aoeanalytics2"
  },
  "language_info": {
   "codemirror_mode": {
    "name": "ipython",
    "version": 3
   },
   "file_extension": ".py",
   "mimetype": "text/x-python",
   "name": "python",
   "nbconvert_exporter": "python",
   "pygments_lexer": "ipython3",
   "version": "3.8.12"
  }
 },
 "nbformat": 4,
 "nbformat_minor": 5
}
